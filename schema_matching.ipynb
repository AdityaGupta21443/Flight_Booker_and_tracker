{
 "cells": [
  {
   "cell_type": "markdown",
   "metadata": {},
   "source": [
    "The global schema for our application looks like- \n",
    "Customer (Name, email, phone#, loyaltyPts, Age Group, medical condition (optional))\n",
    "Flight (flight#, model, economy seats,business seats, first class seats, price-eco,price-business,price- first class availability, status, departure_time, landing_time, source, destination, distance, delay)\n",
    "\n",
    "We will be performing schema matching to identify the fields that match with our global schema. We wil be doing this through linguistic matching primarily\n"
   ]
  },
  {
   "cell_type": "code",
   "execution_count": null,
   "metadata": {},
   "outputs": [],
   "source": []
  },
  {
   "cell_type": "markdown",
   "metadata": {},
   "source": [
    "Importing schemas from databases"
   ]
  },
  {
   "cell_type": "code",
   "execution_count": 1,
   "metadata": {},
   "outputs": [],
   "source": [
    "import psycopg2"
   ]
  },
  {
   "cell_type": "code",
   "execution_count": 2,
   "metadata": {},
   "outputs": [
    {
     "name": "stdout",
     "output_type": "stream",
     "text": [
      "Collecting rapidfuzz\n",
      "  Downloading rapidfuzz-3.10.1-cp311-cp311-win_amd64.whl.metadata (11 kB)\n",
      "Downloading rapidfuzz-3.10.1-cp311-cp311-win_amd64.whl (1.6 MB)\n",
      "   ---------------------------------------- 0.0/1.6 MB ? eta -:--:--\n",
      "   -------------- ------------------------- 0.6/1.6 MB 17.9 MB/s eta 0:00:01\n",
      "   ---------------------------------------  1.6/1.6 MB 20.2 MB/s eta 0:00:01\n",
      "   ---------------------------------------- 1.6/1.6 MB 17.1 MB/s eta 0:00:00\n",
      "Installing collected packages: rapidfuzz\n",
      "Successfully installed rapidfuzz-3.10.1\n"
     ]
    },
    {
     "name": "stderr",
     "output_type": "stream",
     "text": [
      "\n",
      "[notice] A new release of pip is available: 24.0 -> 24.3.1\n",
      "[notice] To update, run: python.exe -m pip install --upgrade pip\n"
     ]
    }
   ],
   "source": [
    "!pip install rapidfuzz"
   ]
  },
  {
   "cell_type": "code",
   "execution_count": null,
   "metadata": {},
   "outputs": [
    {
     "name": "stdout",
     "output_type": "stream",
     "text": [
      "Fuzzy similarity between 'king' and 'queen': 22.22222222222222\n",
      "Fuzzy similarity between 'king' and 'man': 28.57142857142857\n",
      "Fuzzy similarity between 'king' and 'woman': 22.22222222222222\n",
      "Fuzzy similarity between 'king' and 'child': 22.22222222222222\n",
      "Fuzzy similarity between 'king' and 'throne': 19.999999999999996\n"
     ]
    }
   ],
   "source": [
    "from rapidfuzz import fuzz\n",
    "\n",
    "def fuzzy_match(word, word_list):\n",
    "    # Calculate similarity scores for each word in the list\n",
    "    similarities = {w: fuzz.ratio(word, w) for w in word_list}\n",
    "    return similarities\n",
    "\n",
    "# Example usage\n",
    "\n",
    "input_word = \"king\"\n",
    "words_list = [\"queen\", \"man\", \"woman\", \"child\", \"throne\"]\n",
    "\n",
    "# Perform fuzzy matchingresults = fuzzy_match(input_word, words_list)\n",
    "\n",
    "\n",
    "# Print results\n",
    "for word, similarity in results.items():\n",
    "    print(f\"Fuzzy similarity between '{input_word}' and '{word}': {similarity}\")\n",
    "\n",
    "\n",
    "\n",
    "\n"
   ]
  },
  {
   "cell_type": "code",
   "execution_count": 6,
   "metadata": {},
   "outputs": [
    {
     "data": {
      "text/plain": [
       "{'queen': 22.22222222222222,\n",
       " 'man': 28.57142857142857,\n",
       " 'woman': 22.22222222222222,\n",
       " 'child': 22.22222222222222,\n",
       " 'throne': 19.999999999999996}"
      ]
     },
     "execution_count": 6,
     "metadata": {},
     "output_type": "execute_result"
    }
   ],
   "source": [
    "results"
   ]
  },
  {
   "cell_type": "code",
   "execution_count": 8,
   "metadata": {},
   "outputs": [],
   "source": [
    "Customer = [\n",
    "    \"Name\", \"Email\", \"Phone#\", \"LoyaltyPts\", \n",
    "    \"Age Group\", \"Medical Condition (optional)\", \n",
    "    \"City\", \"Address\"\n",
    "]\n",
    "\n",
    "Flight = [\n",
    "    \"Flight#\", \"Model\", \"Economy-Seats\", \"Business_Seats\", \"First Class-Seats\", \n",
    "    \"Economy Price\", \"Business Price\", \"First Class Price\", \n",
    "    \"Status\", \"Departure_Time\", \"Landing_Time\", \n",
    "    \"Source\", \"Destination\", \"Distance\", \"Delay\"\n",
    "]\n",
    "global_schema = {\n",
    "    \"Customer\": Customer,\n",
    "    \"Flight\": Flight\n",
    "}\n",
    "\n",
    "#############################################\n",
    "\n",
    "# Airline I\n",
    "Customer_Info = [\"CustomerID\", \"FullName\", \"EmailAddress\", \"ContactNumber\", \"LoyaltyPoints\"]\n",
    "Customer_Age = [\"CustomerID\", \"AgeGroup\"]  # Example: \"18-25\", \"26-35\", etc.\n",
    "Customer_Health = [\"CustomerID\", \"HasMedicalCondition\"]  # Binary yes/no\n",
    "Flight_Info = [\n",
    "    \"Flight_id\", \"FlightCode\", \"AircraftModel\", \"TotalSeats\", \n",
    "    \"TicketPrice-Economy\", \"TicketPrice-Business\", \"TicketPrice-First Class\", \n",
    "    \"AvailabilityStatus-Economy\", \"AvailabilityStatus-Business\", \"AvailabilityStatus-First Class\", \n",
    "    \"DepartureTime\", \"ArrivalTime\"\n",
    "]\n",
    "Flight_Route = [\n",
    "    \"Flight_id\", \"FlightCode\", \"DepartureAirport\", \"DestinationAirport\", \n",
    "    \"FlightDistance\", \"CurrentStatus\", \"AverageDelay\"\n",
    "]\n",
    "\n",
    "# Airline II\n",
    "FlightDetails = [\n",
    "    \"FlightId\", \"FlightNumber\", \"AircraftType\", \"TotalCapacity\", \n",
    "    \"PricePerSeat-Economy\", \"PricePerSeat-Business\", \n",
    "    \"AvailableSeats-Economy\", \"AvailableSeats-Business\", \n",
    "    \"FlightStatus\", \"TakeoffTime\", \"LandTime\"\n",
    "]\n",
    "Route = [\"FlightId\", \"Origin\", \"Destination\", \"DistanceTraveled\", \"EstimatedDelay\"]\n",
    "Passenger = [\"PassengerName\", \"Email\", \"Contact\", \"FrequentFlyerPoints\", \"DateOfBirth\", \"City\"]\n",
    "\n",
    "# Airline III\n",
    "Clients = [\"Full_Name\", \"EmailID\", \"ContactNo\", \"Age\", \"PreExistingCondition\"]\n",
    "Loyalty = [\"ClientEmail\", \"Points\"]\n",
    "FlightSchedule = [\n",
    "    \"FlightID\", \"Flight code\", \"SeatsLeft\", \"FlightFare\", \n",
    "    \"Status\", \"StartTime\", \"EndTime\"\n",
    "]\n",
    "RoutePlan = [\"FlightID\", \"FromLocation\", \"ToLocation\", \"DistanceKM\", \"AvgDelay\"]\n",
    "\n",
    "# Consolidated view (if needed)\n",
    "airline_schemas = {\n",
    "    \"Airline I\": {\n",
    "        \"Customer_Info\": Customer_Info,\n",
    "        \"Customer_Age\": Customer_Age,\n",
    "        \"Customer_Health\": Customer_Health,\n",
    "        \"Flight_Info\": Flight_Info,\n",
    "        \"Flight_Route\": Flight_Route\n",
    "    },\n",
    "    \"Airline II\": {\n",
    "        \"FlightDetails\": FlightDetails,\n",
    "        \"Route\": Route,\n",
    "        \"Passenger\": Passenger\n",
    "    },\n",
    "    \"Airline III\": {\n",
    "        \"Clients\": Clients,\n",
    "        \"Loyalty\": Loyalty,\n",
    "        \"FlightSchedule\": FlightSchedule,\n",
    "        \"RoutePlan\": RoutePlan\n",
    "    }\n",
    "}\n",
    "\n",
    "\n",
    "airline_schemas2=airline_schemas\n",
    "\n",
    "\n",
    "\n"
   ]
  },
  {
   "cell_type": "code",
   "execution_count": 11,
   "metadata": {},
   "outputs": [],
   "source": [
    "mapping={}\n",
    "\n",
    "for airlines in airline_schemas.values():\n",
    "    all_fields=[]\n",
    "    for fields in airlines.values():\n",
    "        all_fields.extend(fields)\n",
    "    for k,v in global_schema.items():\n",
    "        for field in v:\n",
    "            result = fuzzy_match(field, all_fields)\n",
    "            best_match=\"\"\n",
    "            best_score=0\n",
    "            for word, score in result.items():\n",
    "                if score>best_score:\n",
    "                    best_match=word\n",
    "                    best_score=score\n",
    "            if field not in mapping:\n",
    "                mapping[field]=[best_match]\n",
    "               \n",
    "            \n",
    "            else:\n",
    "                mapping[field].append(best_match)\n",
    "\n",
    "\n",
    "            \n",
    "        \n",
    "\n",
    "\n"
   ]
  },
  {
   "cell_type": "code",
   "execution_count": 12,
   "metadata": {},
   "outputs": [
    {
     "data": {
      "text/plain": [
       "{'Name': ['FullName', 'LandTime', 'Full_Name'],\n",
       " 'Email': ['EmailAddress', 'Email', 'EmailID'],\n",
       " 'Phone#': ['FlightCode', 'PassengerName', 'Points'],\n",
       " 'LoyaltyPts': ['LoyaltyPoints', 'TotalCapacity', 'ToLocation'],\n",
       " 'Age Group': ['AgeGroup', 'FlightNumber', 'Age'],\n",
       " 'Medical Condition (optional)': ['HasMedicalCondition',\n",
       "  'Destination',\n",
       "  'PreExistingCondition'],\n",
       " 'City': ['Flight_id', 'City', 'ClientEmail'],\n",
       " 'Address': ['EmailAddress', 'AircraftType', 'Age'],\n",
       " 'Flight#': ['Flight_id', 'FlightId', 'FlightID'],\n",
       " 'Model': ['AircraftModel', 'EstimatedDelay', 'Flight code'],\n",
       " 'Economy-Seats': ['TotalSeats', 'PricePerSeat-Economy', 'SeatsLeft'],\n",
       " 'Business_Seats': ['TicketPrice-Business',\n",
       "  'PricePerSeat-Business',\n",
       "  'SeatsLeft'],\n",
       " 'First Class-Seats': ['TicketPrice-First Class', 'FlightStatus', 'SeatsLeft'],\n",
       " 'Economy Price': ['TicketPrice-Economy', 'PricePerSeat-Economy', 'EndTime'],\n",
       " 'Business Price': ['TicketPrice-Business',\n",
       "  'PricePerSeat-Business',\n",
       "  'DistanceKM'],\n",
       " 'First Class Price': ['TicketPrice-First Class',\n",
       "  'DistanceTraveled',\n",
       "  'FlightFare'],\n",
       " 'Status': ['CurrentStatus', 'FlightStatus', 'Status'],\n",
       " 'Departure_Time': ['DepartureTime', 'TakeoffTime', 'StartTime'],\n",
       " 'Landing_Time': ['ArrivalTime', 'LandTime', 'EndTime'],\n",
       " 'Source': ['ContactNumber', 'AircraftType', 'StartTime'],\n",
       " 'Destination': ['DestinationAirport', 'Destination', 'PreExistingCondition'],\n",
       " 'Distance': ['FlightDistance', 'DistanceTraveled', 'DistanceKM'],\n",
       " 'Delay': ['AverageDelay', 'EstimatedDelay', 'AvgDelay']}"
      ]
     },
     "execution_count": 12,
     "metadata": {},
     "output_type": "execute_result"
    }
   ],
   "source": [
    "mapping"
   ]
  }
 ],
 "metadata": {
  "kernelspec": {
   "display_name": "Python 3",
   "language": "python",
   "name": "python3"
  },
  "language_info": {
   "codemirror_mode": {
    "name": "ipython",
    "version": 3
   },
   "file_extension": ".py",
   "mimetype": "text/x-python",
   "name": "python",
   "nbconvert_exporter": "python",
   "pygments_lexer": "ipython3",
   "version": "3.11.2"
  }
 },
 "nbformat": 4,
 "nbformat_minor": 2
}
