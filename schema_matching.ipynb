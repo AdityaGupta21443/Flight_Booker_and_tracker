{
 "cells": [
  {
   "cell_type": "markdown",
   "metadata": {},
   "source": [
    "The global schema for our application looks like- \n",
    "Customer (Name, email, phone#, loyaltyPts, Age Group, medical condition (optional))\n",
    "Flight (flight#, model, economy seats,business seats, first class seats, price-eco,price-business,price- first class availability, status, departure_time, landing_time, source, destination, distance, delay)\n",
    "\n",
    "We will be performing schema matching to identify the fields that match with our global schema. We wil be doing this through linguistic matching primarily\n"
   ]
  },
  {
   "cell_type": "code",
   "execution_count": null,
   "metadata": {},
   "outputs": [],
   "source": []
  },
  {
   "cell_type": "markdown",
   "metadata": {},
   "source": [
    "Importing schemas from databases"
   ]
  },
  {
   "cell_type": "code",
   "execution_count": 1,
   "metadata": {},
   "outputs": [],
   "source": [
    "import psycopg2"
   ]
  },
  {
   "cell_type": "code",
   "execution_count": null,
   "metadata": {},
   "outputs": [],
   "source": [
    "!pip install rapidfuzz"
   ]
  },
  {
   "cell_type": "markdown",
   "metadata": {},
   "source": [
    "SELECT tablename\n",
    "FROM pg_catalog.pg_tables\n",
    "WHERE schemaname = 'your_schema_name';"
   ]
  },
  {
   "cell_type": "code",
   "execution_count": 2,
   "metadata": {},
   "outputs": [],
   "source": [
    "from rapidfuzz import fuzz\n",
    "\n",
    "def fuzzy_match(word, word_list):\n",
    "    # Calculate similarity scores for each word in the list\n",
    "    similarities = {w: fuzz.ratio(word, w) for w in word_list}\n",
    "    return similarities\n",
    "\n"
   ]
  },
  {
   "cell_type": "code",
   "execution_count": null,
   "metadata": {},
   "outputs": [],
   "source": [
    "results"
   ]
  },
  {
   "cell_type": "code",
   "execution_count": null,
   "metadata": {},
   "outputs": [],
   "source": [
    "Customer = [\n",
    "    \"Name\", \"Email\", \"Contact number\", \"Points/frequent_flyer_miles\", \n",
    "    \"Date of Birth\", \"City\", \"Address\"\n",
    "]\n",
    "\n",
    "Flight = [\n",
    "    \"Flight code\", \"Economy-Seats\", \"Business_Seats\", \"First Class-Seats\", \n",
    "    \"Economy Price\", \"Business Price\", \"First Class Price\", \n",
    "    \"Status\", \"Departure_Time\", \"Landing_Time\", \n",
    "    \"Source\", \"Destination\", \"Distance\", \"Delay\"\n",
    "]\n",
    "global_schema = {\n",
    "    \"Customer\": Customer,\n",
    "    \"Flight\": Flight\n",
    "}\n",
    "\n",
    "#############################################\n",
    "\n",
    "# Airline I\n",
    "Customer_Info = [\"CustomerID\", \"FullName\", \"EmailAddress\", \"ContactNumber\", \"LoyaltyPoints\"]\n",
    "Customer_Age = [\"CustomerID\", \"AgeGroup\"]  # Example: \"18-25\", \"26-35\", etc.\n",
    "Customer_Health = [\"CustomerID\", \"HasMedicalCondition\"]  # Binary yes/no\n",
    "Flight_Info = [\n",
    "    \"Flight_id\", \"FlightCode\", \"AircraftModel\", \"TotalSeats\", \n",
    "    \"TicketPrice-Economy\", \"TicketPrice-Business\", \"TicketPrice-First Class\", \n",
    "    \"AvailabilityStatus-Economy\", \"AvailabilityStatus-Business\", \"AvailabilityStatus-First Class\", \n",
    "    \"DepartureTime\", \"ArrivalTime\"\n",
    "]\n",
    "Flight_Route = [\n",
    "    \"Flight_id\", \"FlightCode\", \"DepartureAirport\", \"DestinationAirport\", \n",
    "    \"FlightDistance\", \"CurrentStatus\", \"AverageDelay\"\n",
    "]\n",
    "\n",
    "# Airline II\n",
    "FlightDetails = [\n",
    "    \"FlightId\", \"FlightNumber\", \"AircraftType\", \"TotalCapacity\", \n",
    "    \"PricePerSeat-Economy\", \"PricePerSeat-Business\", \n",
    "    \"AvailableSeats-Economy\", \"AvailableSeats-Business\", \n",
    "    \"FlightStatus\", \"TakeoffTime\", \"LandTime\"\n",
    "]\n",
    "Route = [\"FlightId\", \"Origin\", \"Destination\", \"DistanceTraveled\", \"EstimatedDelay\"]\n",
    "Passenger = [\"PassengerName\", \"Email\", \"Contact\", \"FrequentFlyerPoints\", \"DateOfBirth\", \"City\"]\n",
    "\n",
    "# Airline III\n",
    "Clients = [\"Full_Name\", \"EmailID\", \"ContactNo\", \"Age\", \"PreExistingCondition\"]\n",
    "Loyalty = [\"ClientEmail\", \"Points\"]\n",
    "FlightSchedule = [\n",
    "    \"FlightID\", \"Flight code\", \"SeatsLeft\", \"FlightFare\", \n",
    "    \"Status\", \"StartTime\", \"EndTime\"\n",
    "]\n",
    "RoutePlan = [\"FlightID\", \"FromLocation\", \"ToLocation\", \"DistanceKM\", \"AvgDelay\"]\n",
    "\n",
    "# Consolidated view (if needed)\n",
    "airline_schemas = {\n",
    "    \"Airline I\": {\n",
    "        \"Customer\":{\n",
    "        \"Customer_Info\": Customer_Info,\n",
    "        \"Customer_Age\": Customer_Age,\n",
    "        \"Customer_Health\": Customer_Health,\n",
    "        },\n",
    "        \"Flight\":{\n",
    "        \"Flight_Info\": Flight_Info,\n",
    "        \"Flight_Route\": Flight_Route\n",
    "        }\n",
    "    },\n",
    "    \"Airline II\": {\n",
    "        \"Flight\":{\n",
    "        \"FlightDetails\": FlightDetails,\n",
    "        \"Route\": Route\n",
    "        },\n",
    "        \"Customer\":{\n",
    "        \n",
    "        \"Passenger\": Passenger\n",
    "        }\n",
    "    },\n",
    "    \"Airline III\": {\n",
    "        \"Customer\":{\n",
    "        \"Clients\": Clients,\n",
    "        \"Loyalty\": Loyalty\n",
    "        },\n",
    "        \"Flight\":{\n",
    "        \"FlightSchedule\": FlightSchedule,\n",
    "        \"RoutePlan\": RoutePlan\n",
    "        }\n",
    "    }\n",
    "}\n",
    "\n",
    "\n",
    "airline_schemas2=airline_schemas\n",
    "\n",
    "\n",
    "\n"
   ]
  },
  {
   "cell_type": "code",
   "execution_count": 3,
   "metadata": {},
   "outputs": [],
   "source": [
    "import psycopg2"
   ]
  },
  {
   "cell_type": "code",
   "execution_count": 4,
   "metadata": {},
   "outputs": [],
   "source": [
    "Connection_params={\n",
    "    \"air india\":{\n",
    "    \"dbname\": \"air india\",\n",
    "    \"user\": \"postgres\",\n",
    "    \"password\": \"addy\",\n",
    "    \"host\": \"localhost\",  # Use the actual host (e.g., \"127.0.0.1\" or server IP)\n",
    "    \"port\": 5432          # Default PostgreSQL port\n",
    "    },\n",
    "    \"vistara\":{\n",
    "    \"dbname\": \"vistara\",\n",
    "    \"user\": \"postgres\",\n",
    "    \"password\": \"addy\",\n",
    "    \"host\": \"localhost\",  # Use the actual host (e.g., \"127.0.0.1\" or server IP)\n",
    "    \"port\": 5432          # Default PostgreSQL port\n",
    "    },\n",
    "    \"indigo\":{\n",
    "    \"dbname\": \"indigo\",\n",
    "    \"user\": \"postgres\",\n",
    "    \"password\": \"addy\",\n",
    "    \"host\": \"localhost\",  # Use the actual host (e.g., \"127.0.0.1\" or server IP)\n",
    "    \"port\": 5432          # Default PostgreSQL port\n",
    "    }\n",
    "}"
   ]
  },
  {
   "cell_type": "code",
   "execution_count": 5,
   "metadata": {},
   "outputs": [],
   "source": [
    "def custom_query(connection_params,query):\n",
    "    try:\n",
    "        # Establish connection\n",
    "        conn = psycopg2.connect(**connection_params)\n",
    "        print(\"Connection successful\")\n",
    "\n",
    "        # Create a cursor object\n",
    "        cursor = conn.cursor()\n",
    "\n",
    "        # Execute a query\n",
    "        cursor.execute(f\"{query}\")\n",
    "\n",
    "        # Fetch and print the result\n",
    "        results= cursor.fetchall()\n",
    "        # print(f\"PostgreSQL version: {version}\")\n",
    "        column_names = [desc[0] for desc in cursor.description]\n",
    "        # fields[connection_params[\"dbname\"]]=column_names\n",
    "\n",
    "        # Close cursor and connection\n",
    "        cursor.close()\n",
    "        conn.close()\n",
    "        # print(results)\n",
    "        return results\n",
    "    except Exception as e:\n",
    "        print(f\"Error: {e}\")\n",
    "        return None\n",
    "\n",
    "    "
   ]
  },
  {
   "cell_type": "code",
   "execution_count": 6,
   "metadata": {},
   "outputs": [],
   "source": [
    "query=\"\"\"SELECT table_name, column_name, data_type \n",
    "                            FROM information_schema.columns\n",
    "                            WHERE table_schema = 'public'\n",
    "                            ORDER BY table_name, ordinal_position;\"\"\"\n",
    "\n",
    "# custom_query(Connection_params['Indigo'],query)"
   ]
  },
  {
   "cell_type": "code",
   "execution_count": 7,
   "metadata": {},
   "outputs": [
    {
     "name": "stdout",
     "output_type": "stream",
     "text": [
      "Connection successful\n",
      "Connection successful\n",
      "Connection successful\n"
     ]
    }
   ],
   "source": [
    "dbnames=[\"air india\",\"indigo\",\"vistara\"]\n",
    "all_schemas={}\n",
    "for airline in dbnames:\n",
    "    all_schemas[airline]={}\n",
    "    result=custom_query(Connection_params[airline],query)\n",
    "    for attribute in result:\n",
    "        if attribute[0] not in all_schemas[airline]:\n",
    "            all_schemas[airline][attribute[0]]=[attribute[1]]\n",
    "        else:\n",
    "            all_schemas[airline][attribute[0]].append(attribute[1])\n"
   ]
  },
  {
   "cell_type": "code",
   "execution_count": null,
   "metadata": {},
   "outputs": [],
   "source": [
    "dbnames=[\"air india\",\"indigo\",\"vistara\"]"
   ]
  },
  {
   "cell_type": "code",
   "execution_count": 73,
   "metadata": {},
   "outputs": [],
   "source": [
    "attr_to_table={}\n",
    "for db in dbnames:\n",
    "    attr_to_table[db]={}\n",
    "    for table,atts in all_schemas[db].items():\n",
    "        for att in atts:\n",
    "            attr_to_table[db][att]=table"
   ]
  },
  {
   "cell_type": "code",
   "execution_count": 74,
   "metadata": {},
   "outputs": [
    {
     "data": {
      "text/plain": [
       "{'air india': {'CustomerID': 'customer_info',\n",
       "  'FullName': 'customer_info',\n",
       "  'EmailAddress': 'customer_info',\n",
       "  'ContactNumber': 'customer_info',\n",
       "  'LoyaltyPoints': 'customer_info',\n",
       "  'dataofbirth': 'customer_info',\n",
       "  'cityofresidence': 'customer_info',\n",
       "  'address': 'customer_info',\n",
       "  'flightid': 'flight_route',\n",
       "  'flightcode': 'flight_route',\n",
       "  'aircraftmodel': 'flight_info',\n",
       "  'ticketprice_economy': 'flight_info',\n",
       "  'ticketprice_business': 'flight_info',\n",
       "  'ticketprice_firstclass': 'flight_info',\n",
       "  'economy_seats': 'flight_info',\n",
       "  'business_seats': 'flight_info',\n",
       "  'firstclass_seats': 'flight_info',\n",
       "  'departuretime': 'flight_info',\n",
       "  'arrivaltime': 'flight_info',\n",
       "  'departureairport': 'flight_route',\n",
       "  'destinationairport': 'flight_route',\n",
       "  'flightdistance': 'flight_route',\n",
       "  'currentstatus': 'flight_route',\n",
       "  'averagedelay': 'flight_route'},\n",
       " 'indigo': {'flightid': 'routeplan',\n",
       "  'flight_code': 'flightschedule',\n",
       "  'seatsleft': 'flightschedule',\n",
       "  'flightfare': 'flightschedule',\n",
       "  'status': 'flightschedule',\n",
       "  'starttime': 'flightschedule',\n",
       "  'endtime': 'flightschedule',\n",
       "  'emailid': 'traveller',\n",
       "  'points': 'loyalty',\n",
       "  'fromlocation': 'routeplan',\n",
       "  'tolocation': 'routeplan',\n",
       "  'distancekm': 'routeplan',\n",
       "  'avgdelay': 'routeplan',\n",
       "  'customerid': 'traveller',\n",
       "  'full_name': 'traveller',\n",
       "  'contactno': 'traveller',\n",
       "  'loyaltypoints': 'traveller',\n",
       "  'dob': 'traveller',\n",
       "  'city': 'traveller',\n",
       "  'address': 'traveller'},\n",
       " 'vistara': {'flightid': 'route',\n",
       "  'flightnumber': 'flightdetails',\n",
       "  'aircrafttype': 'flightdetails',\n",
       "  'totalcapacity': 'flightdetails',\n",
       "  'priceperseat_economy': 'flightdetails',\n",
       "  'priceperseat_business': 'flightdetails',\n",
       "  'availableseats_economy': 'flightdetails',\n",
       "  'availableseats_business': 'flightdetails',\n",
       "  'flightstatus': 'flightdetails',\n",
       "  'takeofftime': 'flightdetails',\n",
       "  'landtime': 'flightdetails',\n",
       "  'passengerid': 'passenger',\n",
       "  'passengername': 'passenger',\n",
       "  'email': 'passenger',\n",
       "  'contact': 'passenger',\n",
       "  'loyaltypoints': 'passenger',\n",
       "  'dataofbirth': 'passenger',\n",
       "  'city': 'passenger',\n",
       "  'address': 'passenger',\n",
       "  'origin': 'route',\n",
       "  'destination': 'route',\n",
       "  'distancetraveled': 'route',\n",
       "  'estimateddelay': 'route'}}"
      ]
     },
     "execution_count": 74,
     "metadata": {},
     "output_type": "execute_result"
    }
   ],
   "source": [
    "attr_to_table"
   ]
  },
  {
   "cell_type": "code",
   "execution_count": 32,
   "metadata": {},
   "outputs": [
    {
     "data": {
      "text/plain": [
       "{'passenger': 13.33333333333333}"
      ]
     },
     "execution_count": 32,
     "metadata": {},
     "output_type": "execute_result"
    }
   ],
   "source": [
    "fuzzy_match(\"flight\",[\"passenger\"])"
   ]
  },
  {
   "cell_type": "code",
   "execution_count": 33,
   "metadata": {},
   "outputs": [
    {
     "name": "stdout",
     "output_type": "stream",
     "text": [
      "{'air india': {'Customer': {'customer_info'}, 'Flight': {'flight_info', 'flight_route'}}, 'indigo': {'Customer': {'traveller'}, 'Flight': {'routeplan', 'flightschedule'}}, 'vistara': {'Customer': {'passenger'}, 'Flight': {'flightdetails', 'route'}}}\n"
     ]
    }
   ],
   "source": [
    "classify_tables={}\n",
    "\n",
    "customer=set()\n",
    "flight=set()\n",
    "customer_syn=[\"passenger\",\"customers\"]\n",
    "flight_syn=[\"flight\",\"route\"]\n",
    "for db in dbnames:\n",
    "    classify_tables[db]={\"Customer\":set(),\"Flight\":set()}\n",
    "    for syn in customer_syn:\n",
    "        res=fuzzy_match(syn,list(all_schemas[db].keys()))\n",
    "        # print(type(res))\n",
    "        for table,score in res.items():\n",
    "            if score>43:\n",
    "                classify_tables[db][\"Customer\"].add(table)\n",
    "    \n",
    "    for syn in flight_syn:\n",
    "        res=fuzzy_match(syn,list(all_schemas[db].keys()))\n",
    "        for table,score in res.items():\n",
    "            if score>50:\n",
    "                classify_tables[db][\"Flight\"].add(table)\n",
    "\n",
    "print(classify_tables)\n",
    "    \n",
    "    \n",
    "\n"
   ]
  },
  {
   "cell_type": "markdown",
   "metadata": {},
   "source": [
    "field matching"
   ]
  },
  {
   "cell_type": "code",
   "execution_count": null,
   "metadata": {},
   "outputs": [
    {
     "name": "stdout",
     "output_type": "stream",
     "text": [
      "Business_Seats indigo\n",
      "Economy Price indigo\n",
      "Business Price indigo\n"
     ]
    }
   ],
   "source": [
    "#global schema\n",
    "Customer = [\n",
    "   \"Address\", \"Name\", \"Email\", \"Contact number\", \"Points\", \n",
    "    \"Date of Birth\", \"City\"\n",
    "]\n",
    "\n",
    "Flight = [\n",
    "    \"Flight code\", \"Status\", \"Departure_Time\", \"Landing_Time\", \n",
    "    \"Source/From\", \"Destination\", \"Distance\", \"Delay\",\"Economy Seats\", \"Business_Seats\", \"First Class-Seats\", \n",
    "    \"Economy Price\", \"Business Price\", \"First Class Price\", \n",
    "]\n",
    "global_schema = {\n",
    "    \"Customer\": Customer,\n",
    "    \"Flight\": Flight\n",
    "}\n",
    "combined_customer_fields={}\n",
    "for db in dbnames:\n",
    "    combined_customer_fields[db]=set()\n",
    "    for table in classify_tables[db][\"Customer\"]:\n",
    "        for field in all_schemas[db][table]:\n",
    "            combined_customer_fields[db].add(field)\n",
    "\n",
    "combined_flight_fields={}\n",
    "for db in dbnames:\n",
    "    combined_flight_fields[db]=set()\n",
    "    for table in classify_tables[db][\"Flight\"]:\n",
    "        for field in all_schemas[db][table]:\n",
    "            combined_flight_fields[db].add(field)\n",
    "\n",
    "all_schema2=all_schemas\n",
    "\n",
    "cust_mappings={}\n",
    "flight_mappings={}\n",
    "for db in dbnames:\n",
    "    cust_mappings[db]={}\n",
    "    flight_mappings[db]={}\n",
    "    for field in Customer:\n",
    "        res=fuzzy_match(field,list(combined_customer_fields[db]))\n",
    "        max_score=0\n",
    "        max_field=\"\"\n",
    "        for field2,score in res.items():\n",
    "            if score>max_score:\n",
    "               max_score=score\n",
    "               max_field=field2\n",
    "\n",
    "        combined_customer_fields[db].discard(max_field)\n",
    "        cust_mappings[db][field]=max_field\n",
    "\n",
    "    for field in Flight:\n",
    "        res=fuzzy_match(field,list(combined_flight_fields[db]))\n",
    "        max_score=0\n",
    "        max_field=\"\"\n",
    "        for field2,score in res.items():\n",
    "            if score>max_score:\n",
    "               max_score=score\n",
    "               max_field=field2\n",
    "        \n",
    "        if max_score>20:\n",
    "            combined_flight_fields[db].discard(max_field)\n",
    "            flight_mappings[db][field]=max_field\n",
    "        else:\n",
    "            print(field,db)\n",
    "        combined_flight_fields[db].discard(max_field)\n",
    "        flight_mappings[db][field]=max_field\n",
    "        \n",
    "        \n",
    "            \n",
    "\n",
    "\n",
    "#for customer part\n",
    "\n"
   ]
  },
  {
   "cell_type": "code",
   "execution_count": 75,
   "metadata": {},
   "outputs": [
    {
     "data": {
      "text/plain": [
       "{'air india': {'Address': 'address',\n",
       "  'Name': 'FullName',\n",
       "  'Email': 'EmailAddress',\n",
       "  'Contact number': 'ContactNumber',\n",
       "  'Points': 'LoyaltyPoints',\n",
       "  'Date of Birth': 'dataofbirth',\n",
       "  'City': 'cityofresidence'},\n",
       " 'indigo': {'Address': 'address',\n",
       "  'Name': 'full_name',\n",
       "  'Email': 'emailid',\n",
       "  'Contact number': 'contactno',\n",
       "  'Points': 'loyaltypoints',\n",
       "  'Date of Birth': 'customerid',\n",
       "  'City': 'city'},\n",
       " 'vistara': {'Address': 'address',\n",
       "  'Name': 'passengername',\n",
       "  'Email': 'email',\n",
       "  'Contact number': 'contact',\n",
       "  'Points': 'loyaltypoints',\n",
       "  'Date of Birth': 'dataofbirth',\n",
       "  'City': 'city'}}"
      ]
     },
     "execution_count": 75,
     "metadata": {},
     "output_type": "execute_result"
    }
   ],
   "source": [
    "cust_mappings"
   ]
  },
  {
   "cell_type": "code",
   "execution_count": 72,
   "metadata": {},
   "outputs": [
    {
     "data": {
      "text/plain": [
       "{'air india': {'Flight code': 'flightcode',\n",
       "  'Status': 'currentstatus',\n",
       "  'Departure_Time': 'departuretime',\n",
       "  'Landing_Time': 'arrivaltime',\n",
       "  'Source/From': 'departureairport',\n",
       "  'Destination': 'destinationairport',\n",
       "  'Distance': 'flightdistance',\n",
       "  'Delay': 'averagedelay',\n",
       "  'Economy Seats': 'economy_seats',\n",
       "  'Business_Seats': 'business_seats',\n",
       "  'First Class-Seats': 'firstclass_seats',\n",
       "  'Economy Price': 'ticketprice_economy',\n",
       "  'Business Price': 'ticketprice_business',\n",
       "  'First Class Price': 'ticketprice_firstclass'},\n",
       " 'indigo': {'Flight code': 'flight_code',\n",
       "  'Status': 'status',\n",
       "  'Departure_Time': 'starttime',\n",
       "  'Landing_Time': 'endtime',\n",
       "  'Source/From': 'tolocation',\n",
       "  'Destination': 'fromlocation',\n",
       "  'Distance': 'distancekm',\n",
       "  'Delay': 'avgdelay',\n",
       "  'Economy Seats': 'seatsleft',\n",
       "  'First Class-Seats': 'flightfare',\n",
       "  'First Class Price': 'flightid'},\n",
       " 'vistara': {'Flight code': 'flightid',\n",
       "  'Status': 'flightstatus',\n",
       "  'Departure_Time': 'landtime',\n",
       "  'Landing_Time': 'takeofftime',\n",
       "  'Source/From': 'priceperseat_economy',\n",
       "  'Destination': 'destination',\n",
       "  'Distance': 'distancetraveled',\n",
       "  'Delay': 'estimateddelay',\n",
       "  'Economy Seats': 'availableseats_economy',\n",
       "  'Business_Seats': 'priceperseat_business',\n",
       "  'First Class-Seats': 'availableseats_business',\n",
       "  'Economy Price': 'origin',\n",
       "  'Business Price': 'flightnumber',\n",
       "  'First Class Price': 'aircrafttype'}}"
      ]
     },
     "execution_count": 72,
     "metadata": {},
     "output_type": "execute_result"
    }
   ],
   "source": [
    "flight_mappings"
   ]
  },
  {
   "cell_type": "code",
   "execution_count": null,
   "metadata": {},
   "outputs": [],
   "source": [
    "{'air india': {'Flight code': 'flightcode',\n",
    "  'Status': 'currentstatus',\n",
    "  'Departure_Time': 'departuretime',\n",
    "  'Landing_Time': 'arrivaltime',\n",
    "  'Source/From': 'departureairport',\n",
    "  'Destination': 'destinationairport',\n",
    "  'Distance': 'flightdistance',\n",
    "  'Delay': 'averagedelay',\n",
    "  'Economy Seats': 'economy_seats',\n",
    "  'Business_Seats': 'business_seats',\n",
    "  'First Class-Seats': 'firstclass_seats',\n",
    "  'Economy Price': 'ticketprice_economy',\n",
    "  'Business Price': 'ticketprice_business',\n",
    "  'First Class Price': 'ticketprice_firstclass'},\n",
    " 'indigo': {'Flight code': 'flight_code',\n",
    "  'Status': 'status',\n",
    "  'Departure_Time': 'starttime',\n",
    "  'Landing_Time': 'endtime',\n",
    "  'Source/From': 'fromlocation',\n",
    "  'Destination': 'tolocation',\n",
    "  'Distance': 'distancekm',\n",
    "  'Delay': 'avgdelay',\n",
    "  'Business_Seats indigo':'',\n",
    "  'Business Price indigo':'',\n",
    "  'Economy Price': 'flightfare',\n",
    "  'Economy Seats': 'seatsleft',\n",
    "  'First Class-Seats': '',\n",
    "  'First Class Price': ''},\n",
    " 'vistara': {'Flight code': 'flightid',\n",
    "  'Status': 'flightstatus',\n",
    "  'Departure_Time': 'takeofftime',\n",
    "  'Landing_Time': 'landtime',\n",
    "  'Source/From': 'origin',\n",
    "  'Destination': 'destination',\n",
    "  'Distance': 'distancetraveled',\n",
    "  'Delay': 'estimateddelay',\n",
    "  'Economy Seats': 'availableseats_economy',\n",
    "  'Business_Seats': 'availableseats_business',\n",
    "  'First Class-Seats': '',\n",
    "  'Economy Price': 'priceperseat_economy',\n",
    "  'Business Price': 'priceperseat_business',\n",
    "  'First Class Price': ''}}"
   ]
  },
  {
   "cell_type": "code",
   "execution_count": null,
   "metadata": {},
   "outputs": [],
   "source": [
    "mapping={}\n",
    "\n",
    "\n",
    "\n",
    "for airlines in airline_schemas.values():\n",
    "    customer_fields=[]\n",
    "    flight_fields=[]\n",
    "    internal={\"Customer\":customer_fields,\"Flight\":flight_fields}\n",
    "    for cust_field in airlines[\"Customer\"].values():\n",
    "        customer_fields.extend(cust_field)\n",
    "    for flight_field in airlines[\"Flight\"].values():\n",
    "        flight_fields.extend(flight_field)\n",
    "    \n",
    "    \n",
    "    for k,v in global_schema.items():\n",
    "        for field in v:\n",
    "            result = fuzzy_match(field,internal[k])\n",
    "            best_match=\"\"\n",
    "            best_score=0\n",
    "            for word, score in result.items():\n",
    "                if score>best_score:\n",
    "                    best_match=word\n",
    "                    best_score=score\n",
    "            if field not in mapping:\n",
    "                mapping[field]=[best_match]\n",
    "                \n",
    "            \n",
    "            else:\n",
    "                mapping[field].append(best_match)\n",
    "\n",
    "\n",
    "            \n",
    "        \n",
    "\n",
    "\n"
   ]
  },
  {
   "cell_type": "code",
   "execution_count": null,
   "metadata": {},
   "outputs": [],
   "source": [
    "mapping"
   ]
  }
 ],
 "metadata": {
  "kernelspec": {
   "display_name": "Python 3",
   "language": "python",
   "name": "python3"
  },
  "language_info": {
   "codemirror_mode": {
    "name": "ipython",
    "version": 3
   },
   "file_extension": ".py",
   "mimetype": "text/x-python",
   "name": "python",
   "nbconvert_exporter": "python",
   "pygments_lexer": "ipython3",
   "version": "3.11.2"
  }
 },
 "nbformat": 4,
 "nbformat_minor": 2
}
