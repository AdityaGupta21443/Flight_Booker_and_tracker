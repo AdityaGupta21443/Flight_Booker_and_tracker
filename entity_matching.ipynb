{
 "cells": [
  {
   "cell_type": "code",
   "execution_count": 185,
   "metadata": {},
   "outputs": [],
   "source": [
    "import psycopg2\n"
   ]
  },
  {
   "cell_type": "markdown",
   "metadata": {},
   "source": [
    "Addresses of local dbs"
   ]
  },
  {
   "cell_type": "code",
   "execution_count": 186,
   "metadata": {},
   "outputs": [
    {
     "name": "stdout",
     "output_type": "stream",
     "text": [
      "Jaro-Winkler Score: 0.9611111111111111\n"
     ]
    }
   ],
   "source": [
    "def jaro_winkler(string1, string2):\n",
    "    \"\"\"\n",
    "    Custom implementation of the Jaro-Winkler similarity.\n",
    "    :param string1: First string.\n",
    "    :param string2: Second string.\n",
    "    :return: Jaro-Winkler similarity score as a float.\n",
    "    \"\"\"\n",
    "    def get_matching_characters(s1, s2, max_distance):\n",
    "        \"\"\"Find characters that match within max_distance.\"\"\"\n",
    "        matched = []\n",
    "        matched_indices = set()\n",
    "        for i, char1 in enumerate(s1):\n",
    "            for j in range(max(0, i - max_distance), min(len(s2), i + max_distance + 1)):\n",
    "                if char1 == s2[j] and j not in matched_indices:\n",
    "                    matched.append(char1)\n",
    "                    matched_indices.add(j)\n",
    "                    break\n",
    "        return matched\n",
    "\n",
    "    def get_transpositions(s1_matches, s2_matches):\n",
    "        \"\"\"Count the number of transpositions between matched characters.\"\"\"\n",
    "        return sum(1 for c1, c2 in zip(s1_matches, s2_matches) if c1 != c2) // 2\n",
    "\n",
    "    # Step 1: Jaro similarity\n",
    "    max_distance = (max(len(string1), len(string2)) // 2) - 1\n",
    "    string1_matches = get_matching_characters(string1, string2, max_distance)\n",
    "    string2_matches = get_matching_characters(string2, string1, max_distance)\n",
    "\n",
    "    if not string1_matches or not string2_matches:\n",
    "        return 0.0\n",
    "\n",
    "    m = len(string1_matches)\n",
    "    t = get_transpositions(string1_matches, string2_matches)\n",
    "    jaro = (m / len(string1) + m / len(string2) + (m - t) / m) / 3\n",
    "\n",
    "    # Step 2: Jaro-Winkler adjustment\n",
    "    prefix = 0\n",
    "    for c1, c2 in zip(string1, string2):\n",
    "        if c1 == c2:\n",
    "            prefix += 1\n",
    "        else:\n",
    "            break\n",
    "        if prefix == 4:  # Only consider up to 4 characters for prefix scaling\n",
    "            break\n",
    "\n",
    "    scaling_factor = 0.1  # Winkler's scaling factor\n",
    "    jaro_winkler = jaro + prefix * scaling_factor * (1 - jaro)\n",
    "    return jaro_winkler\n",
    "\n",
    "# Example usage\n",
    "score = jaro_winkler(\"martha\", \"marhta\")\n",
    "print(f\"Jaro-Winkler Score: {score}\")\n"
   ]
  },
  {
   "cell_type": "markdown",
   "metadata": {},
   "source": [
    "'air india': {'Flight code': 'flightcode',\n",
    "  'Status': 'currentstatus',\n",
    "  'Departure_Time': 'departuretime',\n",
    "  'Landing_Time': 'arrivaltime',\n",
    "  'Source/From': 'departureairport',\n",
    "  'Destination': 'destinationairport',\n",
    "  'Distance': 'flightdistance',\n",
    "  'Delay': 'averagedelay',\n",
    "  'Economy Seats': 'economy_seats',\n",
    "  'Business_Seats': 'business_seats',\n",
    "  'First Class-Seats': 'firstclass_seats',\n",
    "  'Economy Price': 'ticketprice_economy',\n",
    "  'Business Price': 'ticketprice_business',\n",
    "  'First Class Price': 'ticketprice_firstclass'},\n",
    " 'indigo': {'Flight code': 'flight_code',\n",
    "  'Status': 'status',\n",
    "  'Departure_Time': 'starttime',\n",
    "  'Landing_Time': 'endtime',\n",
    "  'Source/From': 'fromlocation',\n",
    "  'Destination': 'tolocation',\n",
    "  'Distance': 'distancekm',\n",
    "  'Delay': 'avgdelay',\n",
    "  'Business_Seats indigo':'',\n",
    "  'Business Price indigo':'',\n",
    "  'Economy Price': 'flightfare',\n",
    "  'Economy Seats': 'seatsleft',\n",
    "  'First Class-Seats': '',\n",
    "  'First Class Price': ''},\n",
    " 'vistara': {'Flight code': 'flightid',\n",
    "  'Status': 'flightstatus',\n",
    "  'Departure_Time': 'takeofftime',\n",
    "  'Landing_Time': 'landtime',\n",
    "  'Source/From': 'origin',\n",
    "  'Destination': 'destination',\n",
    "  'Distance': 'distancetraveled',\n",
    "  'Delay': 'estimateddelay',\n",
    "  'Economy Seats': 'availableseats_economy',\n",
    "  'Business_Seats': 'availableseats_business',\n",
    "  'First Class-Seats': '',\n",
    "  'Economy Price': 'priceperseat_economy',\n",
    "  'Business Price': 'priceperseat_business',\n",
    "  'First Class Price': ''}}"
   ]
  },
  {
   "cell_type": "code",
   "execution_count": 212,
   "metadata": {},
   "outputs": [],
   "source": [
    "dbnames={\"air india\",\"indigo\",\"vistara\"}"
   ]
  },
  {
   "cell_type": "code",
   "execution_count": 213,
   "metadata": {},
   "outputs": [],
   "source": [
    "field_index={}\n",
    "for db in dbnames:\n",
    "    field_index[db]={}"
   ]
  },
  {
   "cell_type": "code",
   "execution_count": 279,
   "metadata": {},
   "outputs": [
    {
     "data": {
      "text/plain": [
       "tuple"
      ]
     },
     "execution_count": 279,
     "metadata": {},
     "output_type": "execute_result"
    }
   ],
   "source": [
    "dpix={\"yi\":90}\n",
    "type(list(dpix.items())[0])"
   ]
  },
  {
   "cell_type": "code",
   "execution_count": null,
   "metadata": {},
   "outputs": [],
   "source": [
    "def custom_query(connection_params,query):\n",
    "    try:\n",
    "        # Establish connection\n",
    "        conn = psycopg2.connect(**connection_params)\n",
    "        print(\"Connection successful\")\n",
    "\n",
    "        # Create a cursor object\n",
    "        cursor = conn.cursor()\n",
    "\n",
    "        # Execute a query\n",
    "        cursor.execute(f\"{query}\")\n",
    "\n",
    "        # Fetch and print the result\n",
    "        results= cursor.fetchall()\n",
    "        # print(f\"PostgreSQL version: {version}\")\n",
    "        column_names = [desc[0] for desc in cursor.description]\n",
    "        \n",
    "\n",
    "\n",
    "        # Close cursor and connection\n",
    "        cursor.close()\n",
    "        conn.close()\n",
    "        # print(column_names)\n",
    "        for i in range(len(column_names)):\n",
    "            \n",
    "            field_index[connection_params['dbname']][column_names[i]]=i\n",
    "        return results\n",
    "    except Exception as e:\n",
    "        print(f\"Error: {e}\")\n",
    "        return None\n",
    "\n",
    "    "
   ]
  },
  {
   "cell_type": "code",
   "execution_count": 215,
   "metadata": {},
   "outputs": [],
   "source": [
    "Connection_params={\n",
    "    \"air india\":{\n",
    "    \"dbname\": \"air india\",\n",
    "    \"user\": \"postgres\",\n",
    "    \"password\": \"addy\",\n",
    "    \"host\": \"localhost\",  # Use the actual host (e.g., \"127.0.0.1\" or server IP)\n",
    "    \"port\": 5432          # Default PostgreSQL port\n",
    "    },\n",
    "    \"vistara\":{\n",
    "    \"dbname\": \"vistara\",\n",
    "    \"user\": \"postgres\",\n",
    "    \"password\": \"addy\",\n",
    "    \"host\": \"localhost\",  # Use the actual host (e.g., \"127.0.0.1\" or server IP)\n",
    "    \"port\": 5432          # Default PostgreSQL port\n",
    "    },\n",
    "    \"indigo\":{\n",
    "    \"dbname\": \"indigo\",\n",
    "    \"user\": \"postgres\",\n",
    "    \"password\": \"addy\",\n",
    "    \"host\": \"localhost\",  # Use the actual host (e.g., \"127.0.0.1\" or server IP)\n",
    "    \"port\": 5432          # Default PostgreSQL port\n",
    "    }\n",
    "}"
   ]
  },
  {
   "cell_type": "code",
   "execution_count": 216,
   "metadata": {},
   "outputs": [],
   "source": [
    "# query is select * from (all combined customer tables tables)\n",
    "fkey_mapping={\n",
    "    \"air india\":\"\",\n",
    "    \"indigo\":\"emailid\",\n",
    "    \"vistara\":\"\"\n",
    "}"
   ]
  },
  {
   "cell_type": "code",
   "execution_count": 217,
   "metadata": {},
   "outputs": [],
   "source": [
    "combined_table_mapping={}"
   ]
  },
  {
   "cell_type": "code",
   "execution_count": 218,
   "metadata": {},
   "outputs": [],
   "source": [
    "#dictionary for mapping \n",
    "table_mapping={\n",
    "    \"air india\":[\"customer_info\"],\n",
    "    \"indigo\":[\"traveller\",\"loyalty\"],\n",
    "    \"vistara\":[\"passenger\"]\n",
    "    \n",
    "}"
   ]
  },
  {
   "cell_type": "code",
   "execution_count": 219,
   "metadata": {},
   "outputs": [],
   "source": [
    "for k,v in table_mapping.items():\n",
    "    joined_table=v[0]\n",
    "    for i in range(1,len(v)):\n",
    "        \n",
    "        joined_table+=f\" join {v[i]} on {v[i-1]}.{fkey_mapping[k]} = {v[i]}.{fkey_mapping[k]}\"\n",
    "    combined_table_mapping[k]=joined_table\n",
    "\n"
   ]
  },
  {
   "cell_type": "code",
   "execution_count": 220,
   "metadata": {},
   "outputs": [
    {
     "data": {
      "text/plain": [
       "{'air india': 'customer_info',\n",
       " 'indigo': 'traveller join loyalty on traveller.emailid = loyalty.emailid',\n",
       " 'vistara': 'passenger'}"
      ]
     },
     "execution_count": 220,
     "metadata": {},
     "output_type": "execute_result"
    }
   ],
   "source": [
    "combined_table_mapping"
   ]
  },
  {
   "cell_type": "code",
   "execution_count": 221,
   "metadata": {},
   "outputs": [
    {
     "name": "stdout",
     "output_type": "stream",
     "text": [
      "Connection successful\n",
      "['CustomerID', 'FullName', 'EmailAddress', 'ContactNumber', 'LoyaltyPoints', 'dataofbirth', 'cityofresidence', 'address']\n",
      "Connection successful\n",
      "['passengerid', 'passengername', 'email', 'contact', 'loyaltypoints', 'dataofbirth', 'city', 'address']\n",
      "Connection successful\n",
      "['customerid', 'full_name', 'emailid', 'contactno', 'loyaltypoints', 'dob', 'city', 'address', 'emailid', 'points']\n"
     ]
    }
   ],
   "source": [
    "#dictionary for all customer data:\n",
    "cust_data={}\n",
    "for k,v in Connection_params.items():\n",
    "    query=f\"select * from {combined_table_mapping[k]} ;\"\n",
    "    cust_data[k]=custom_query(v,query)\n",
    "    \n",
    "    "
   ]
  },
  {
   "cell_type": "code",
   "execution_count": null,
   "metadata": {},
   "outputs": [],
   "source": [
    "cust_data['air india']"
   ]
  },
  {
   "cell_type": "markdown",
   "metadata": {},
   "source": [
    "global schema for customer-\n",
    "Customer = [\n",
    "    \"Name\", \"Email\", \"Phone no.\", \"Point/frequent_flyer_miles\", \n",
    "    \"Age Group\", \"Medical Condition (optional)\", \n",
    "    \"City\", \"Address\"\n",
    "]"
   ]
  },
  {
   "cell_type": "code",
   "execution_count": 239,
   "metadata": {},
   "outputs": [],
   "source": [
    "# mapping from schema matching\n",
    "schema_mapping={\n",
    "    \"air india\":{\n",
    "    \n",
    "    \"Name\":\"FullName\", \"Email\":\"EmailAddress\", \"Phone no.\":\"ContactNumber\", \"Points\":\"LoyaltyPoints\", \n",
    "    \"Date of Birth\":\"dataofbirth\", \"City\":\"cityofresidence\",\"address\":\"address\"\n",
    "        \n",
    "    },\n",
    "    # \"Indigo\":{\n",
    "    #     \"Name\":\"full_name\", \"Email\":\"emailid\", \"Phone no.\":\"contact\", \"Point/frequent_flyer_miles\":\"points\", \n",
    "    # \"Date of Birth\": \"dob\", \n",
    "    # \"City\":\"city\"\n",
    "    # },\n",
    "     \"indigo\":{\n",
    "    \n",
    "    \"Name\":\"full_name\", \"Email\":\"emailid\", \"Phone no.\":\"contactno\", \"Points\":\"loyaltypoints\", \n",
    "    \"Date of Birth\":\"dob\", \"City\":\"city\",\"address\":\"address\"\n",
    "        \n",
    "    },\n",
    "\n",
    "    # \"Vistara\":{\n",
    "    #       \"Name\":\"passenger_name\", \"Email\":\"email\", \"Phone no.\":\"contactno\", \"Point/frequent_flyer_miles\":\"frequentflyerpoints\", \n",
    "    # \"Age\": \"dateofbirth\", \n",
    "    # \"City\":\"city\"\n",
    "    # }\n",
    "     \"vistara\":{\n",
    "    \n",
    "    \"Name\":\"passengername\", \"Email\":\"email\", \"Phone no.\":\"contact\", \"Points\":\"loyaltypoints\", \n",
    "    \"Date of Birth\":\"dataofbirth\", \"City\":\"city\",\"address\":\"address\"\n",
    "        \n",
    "    }\n",
    "\n",
    "\n",
    "}"
   ]
  },
  {
   "cell_type": "markdown",
   "metadata": {},
   "source": [
    "Blocking based on city"
   ]
  },
  {
   "cell_type": "code",
   "execution_count": null,
   "metadata": {},
   "outputs": [],
   "source": [
    "import pandas as pd"
   ]
  },
  {
   "cell_type": "code",
   "execution_count": 230,
   "metadata": {},
   "outputs": [],
   "source": [
    "dbnames=[\"air india\",\"indigo\",\"vistara\"]"
   ]
  },
  {
   "cell_type": "code",
   "execution_count": 268,
   "metadata": {},
   "outputs": [],
   "source": [
    "# del cust_data['Indigo']\n",
    "city_blocks={}\n",
    "for db in dbnames:\n",
    "    city_blocks[db]={}\n",
    "\n",
    "for airline, data in cust_data.items():\n",
    "    for row in data:\n",
    "        if row[field_index[airline][schema_mapping[airline][\"City\"]]] not in city_blocks[airline]:\n",
    "            city_blocks[airline][row[field_index[airline][schema_mapping[airline][\"City\"]]]]=[row]\n",
    "        else:\n",
    "            city_blocks[airline][row[field_index[airline][schema_mapping[airline][\"City\"]]]].append(row)\n",
    "\n",
    "\n",
    "blocks=city_blocks\n",
    "\n",
    "for airline, cities in city_blocks.items():\n",
    "    for city,rows in cities.items():\n",
    "        blocks[airline][city]={}\n",
    "        for row in rows:\n",
    "            if row[field_index[airline][schema_mapping[airline][\"Date of Birth\"]]] not in blocks[airline][city]:\n",
    "                blocks[airline][city][row[field_index[airline][schema_mapping[airline][\"Date of Birth\"]]]]=[row]\n",
    "            else:\n",
    "                blocks[airline][city][row[field_index[airline][schema_mapping[airline][\"Date of Birth\"]]]].append(row)\n",
    "\n",
    "            \n",
    "\n",
    "\n",
    "\n",
    "\n"
   ]
  },
  {
   "cell_type": "markdown",
   "metadata": {},
   "source": [
    "#Matching"
   ]
  },
  {
   "cell_type": "code",
   "execution_count": 269,
   "metadata": {},
   "outputs": [],
   "source": [
    "import regex as re\n",
    "def preprocess_address(address):\n",
    "    \"\"\"\n",
    "    Preprocess an address string: convert to lowercase and split into words.\n",
    "\n",
    "    Args:\n",
    "        address (str): The address string.\n",
    "\n",
    "    Returns:\n",
    "        set: A set of normalized words in the address.\n",
    "    \"\"\"\n",
    "    # Convert to lowercase\n",
    "    address = address.lower()\n",
    "    # Remove punctuation\n",
    "    address = re.sub(r'[^\\w\\s]', '', address)\n",
    "    # Split into words and convert to a set\n",
    "    return set(address.split())\n",
    "\n",
    "def jaccard_similarity_addresses(addr1, addr2):\n",
    "    \"\"\"\n",
    "    Calculate the Jaccard similarity between two addresses.\n",
    "\n",
    "    Args:\n",
    "        addr1 (str): The first address.\n",
    "        addr2 (str): The second address.\n",
    "\n",
    "    Returns:\n",
    "        float: Jaccard similarity score between 0 and 1.\n",
    "    \"\"\"\n",
    "    set1 = preprocess_address(addr1)\n",
    "    set2 = preprocess_address(addr2)\n",
    "    \n",
    "    intersection = len(set1.intersection(set2))\n",
    "    union = len(set1.union(set2))\n",
    "    return intersection / union if union != 0 else 0.0"
   ]
  },
  {
   "cell_type": "code",
   "execution_count": 270,
   "metadata": {},
   "outputs": [],
   "source": [
    "# \"Name\":\"fullname\", \"Email\":\"emailaddress\", \"Phone no.\":\"contactnumber\", \"Point/frequent_flyer_miles\":\"loyaltypoints\", \n",
    "#     \"Date of Birth\":\"Date of Birth\", \"City\":\"cityofresidence\",\"address\":\"address\"\n",
    "        \n",
    "def calculate_sim(row1,row2,airline1,airline2):\n",
    "    email1=row1[field_index[airline1][schema_mapping[airline1]['Email']]]\n",
    "    email2=row2[field_index[airline2][schema_mapping[airline2]['Email']]]\n",
    "\n",
    "    phone1=row1[field_index[airline1][schema_mapping[airline1]['Phone no.']]]\n",
    "    phone2=row2[field_index[airline2][schema_mapping[airline2]['Phone no.']]]\n",
    "    \n",
    "    if email1==email2 or phone1==phone2:\n",
    "        return True\n",
    "\n",
    "    address1=row1[field_index[airline1][schema_mapping[airline1]['address']]]\n",
    "    address2=row1[field_index[airline2][schema_mapping[airline2]['address']]]\n",
    "\n",
    "    name1=row1[field_index[airline1][schema_mapping[airline1]['Name']]]\n",
    "    name2=row2[field_index[airline2][schema_mapping[airline2]['Name']]]\n",
    "\n",
    "    name_score=jaro_winkler(name1,name2)\n",
    "    address_score=jaccard_similarity_addresses(address1,address2)\n",
    "    \n",
    "    \n",
    "    if(name_score+address_score>1.7):\n",
    "        return True\n",
    "    \n",
    "    return False\n",
    "    \n",
    "    "
   ]
  },
  {
   "cell_type": "code",
   "execution_count": 272,
   "metadata": {},
   "outputs": [],
   "source": [
    "df = pd.DataFrame(columns=[\"Name\", \"Date of Birth\", \"City\",\"email-air india\",\"email-indigo\",\"email-vistara\",\"points-air india\",\"points-indigo\",\"points-vistara\",\"address\",\"Phone no.\"])"
   ]
  },
  {
   "cell_type": "markdown",
   "metadata": {},
   "source": [
    "Structure of blocks---\n",
    "Dictionary-"
   ]
  },
  {
   "cell_type": "code",
   "execution_count": 273,
   "metadata": {},
   "outputs": [],
   "source": [
    "for i in range(len(dbnames)):\n",
    "    for city,dobs in blocks[dbnames[i]].items():\n",
    "        for dob,rows in blocks[dbnames[i]][city].items():\n",
    "            for row in blocks[dbnames[i]][city][dob]:\n",
    "                df_row={\"Name\":\"\", \"Date of Birth\":\"\", \"City\":\"\",\"email-air india\":\"\",\"email-indigo\":\"\",\"email-vistara\":\"\",\"points-air india\":0,\"points-indigo\":0,\"points-vistara\":0,\"address\":\"\",\"Phone no.\":\"\"}\n",
    "                for key in df_row.keys():\n",
    "                    if key in schema_mapping[dbnames[i]]:\n",
    "                        \n",
    "                        df_row[key]=row[field_index[dbnames[i]][schema_mapping[dbnames[i]][key]]]\n",
    "                \n",
    "                df_row[f\"email-{dbnames[i]}\"]=row[field_index[dbnames[i]][schema_mapping[dbnames[i]][\"Email\"]]]\n",
    "                df_row[f\"points-{dbnames[i]}\"]=row[field_index[dbnames[i]][schema_mapping[dbnames[i]][\"Points\"]]]\n",
    "\n",
    "                for j in range(i+1,len(dbnames)):\n",
    "                    row1=row\n",
    "                    if city in blocks[dbnames[j]] and dob in blocks[dbnames[j]][city]:\n",
    "\n",
    "                        # for z,row2 in enumerate(blocks[dbnames[j]][city][dob]):\n",
    "                        z=0\n",
    "                        while z<len(blocks[dbnames[j]][city][dob]):\n",
    "                            row2=blocks[dbnames[j]][city][dob][z]\n",
    "                            airline1=dbnames[i]\n",
    "                            airline2=dbnames[j]\n",
    "                            if calculate_sim(row1,row2,airline1,airline2):\n",
    "                                df_row[f\"email-{dbnames[j]}\"]=row[field_index[dbnames[j]][schema_mapping[dbnames[j]][\"Email\"]]]\n",
    "                                df_row[f\"points-{dbnames[j]}\"]=row[field_index[dbnames[j]][schema_mapping[dbnames[j]][\"Points\"]]]\n",
    "                                del blocks[dbnames[j]][city][dob][z]\n",
    "                                break\n",
    "                            else:\n",
    "                                z+=1\n",
    "                new_row_df = pd.DataFrame([df_row])\n",
    "                df = pd.concat([df, new_row_df], ignore_index=True)\n",
    "\n",
    "\n",
    "                    \n",
    "                \n",
    "            \n",
    "        \n",
    "            \n"
   ]
  },
  {
   "cell_type": "code",
   "execution_count": null,
   "metadata": {},
   "outputs": [],
   "source": [
    "def get_all(dbname):\n",
    "    count=0\n",
    "    for city,dobs in blocks[dbname].items():\n",
    "        for dob, rows in dobs.items():\n",
    "            count+=len(rows)\n",
    "    \n",
    "    return count\n",
    "            "
   ]
  },
  {
   "cell_type": "code",
   "execution_count": null,
   "metadata": {},
   "outputs": [],
   "source": [
    "get_all('Vistara')"
   ]
  },
  {
   "cell_type": "code",
   "execution_count": null,
   "metadata": {},
   "outputs": [],
   "source": []
  },
  {
   "cell_type": "code",
   "execution_count": null,
   "metadata": {},
   "outputs": [],
   "source": [
    "blocks['Indigo']['Hyderabad'][\"1963-01-05\"]"
   ]
  },
  {
   "cell_type": "code",
   "execution_count": 274,
   "metadata": {},
   "outputs": [
    {
     "data": {
      "text/plain": [
       "(178, 11)"
      ]
     },
     "execution_count": 274,
     "metadata": {},
     "output_type": "execute_result"
    }
   ],
   "source": [
    "df.shape"
   ]
  },
  {
   "cell_type": "code",
   "execution_count": 275,
   "metadata": {},
   "outputs": [],
   "source": [
    "df.to_csv(\"combined.csv\",index=False)\n"
   ]
  }
 ],
 "metadata": {
  "kernelspec": {
   "display_name": "Python 3",
   "language": "python",
   "name": "python3"
  },
  "language_info": {
   "codemirror_mode": {
    "name": "ipython",
    "version": 3
   },
   "file_extension": ".py",
   "mimetype": "text/x-python",
   "name": "python",
   "nbconvert_exporter": "python",
   "pygments_lexer": "ipython3",
   "version": "3.11.2"
  }
 },
 "nbformat": 4,
 "nbformat_minor": 2
}
