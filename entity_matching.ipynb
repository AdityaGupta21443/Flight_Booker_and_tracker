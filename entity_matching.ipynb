{
 "cells": [
  {
   "cell_type": "code",
   "execution_count": 1,
   "metadata": {},
   "outputs": [],
   "source": [
    "import psycopg2\n"
   ]
  },
  {
   "cell_type": "markdown",
   "metadata": {},
   "source": [
    "Addresses of local dbs"
   ]
  },
  {
   "cell_type": "code",
   "execution_count": 2,
   "metadata": {},
   "outputs": [
    {
     "name": "stdout",
     "output_type": "stream",
     "text": [
      "Connection successful\n",
      "PostgreSQL version: [('public', 'route', 'flightid', 'public', 'flightdetails', 'flightid')]\n"
     ]
    }
   ],
   "source": [
    "\n",
    "\n",
    "# Database connection details\n",
    "connection_params = {\n",
    "    \"dbname\": \"Vistara\",\n",
    "    \"user\": \"postgres\",\n",
    "    \"password\": \"addy\",\n",
    "    \"host\": \"localhost\",  # Use the actual host (e.g., \"127.0.0.1\" or server IP)\n",
    "    \"port\": 5432          # Default PostgreSQL port\n",
    "}\n",
    "\n",
    "try:\n",
    "    # Establish connection\n",
    "    conn = psycopg2.connect(**connection_params)\n",
    "    print(\"Connection successful\")\n",
    "\n",
    "    # Create a cursor object\n",
    "    cursor = conn.cursor()\n",
    "\n",
    "    # Execute a query\n",
    "    # cursor.execute(\"\"\"SELECT table_name, column_name, data_type \n",
    "    #                     FROM information_schema.columns\n",
    "    #                     WHERE table_schema = 'public'\n",
    "    #                     ORDER BY table_name, ordinal_position;\"\"\")\n",
    "    cursor.execute(\"\"\"SELECT \n",
    "    tc.table_schema AS referencing_schema,\n",
    "    tc.table_name AS referencing_table,\n",
    "    kcu.column_name AS referencing_column,\n",
    "    ccu.table_schema AS referenced_schema,\n",
    "    ccu.table_name AS referenced_table,\n",
    "    ccu.column_name AS referenced_column\n",
    "FROM \n",
    "    information_schema.table_constraints AS tc\n",
    "JOIN \n",
    "    information_schema.key_column_usage AS kcu\n",
    "    ON tc.constraint_name = kcu.constraint_name\n",
    "    AND tc.table_schema = kcu.table_schema\n",
    "JOIN \n",
    "    information_schema.constraint_column_usage AS ccu\n",
    "    ON ccu.constraint_name = tc.constraint_name\n",
    "    AND ccu.table_schema = tc.table_schema\n",
    "WHERE \n",
    "    tc.constraint_type = 'FOREIGN KEY'\n",
    "ORDER BY \n",
    "    referencing_schema, referencing_table;\n",
    "\n",
    " \"\"\")\n",
    "\n",
    "    # Fetch and print the result\n",
    "    version = cursor.fetchall()\n",
    "    print(f\"PostgreSQL version: {version}\")\n",
    "\n",
    "    # Close cursor and connection\n",
    "    cursor.close()\n",
    "    conn.close()\n",
    "except Exception as e:\n",
    "    print(f\"Error: {e}\")\n"
   ]
  },
  {
   "cell_type": "code",
   "execution_count": 3,
   "metadata": {},
   "outputs": [
    {
     "name": "stdout",
     "output_type": "stream",
     "text": [
      "Jaro-Winkler Score: 0.9611111111111111\n"
     ]
    }
   ],
   "source": [
    "def jaro_winkler(string1, string2):\n",
    "    \"\"\"\n",
    "    Custom implementation of the Jaro-Winkler similarity.\n",
    "    :param string1: First string.\n",
    "    :param string2: Second string.\n",
    "    :return: Jaro-Winkler similarity score as a float.\n",
    "    \"\"\"\n",
    "    def get_matching_characters(s1, s2, max_distance):\n",
    "        \"\"\"Find characters that match within max_distance.\"\"\"\n",
    "        matched = []\n",
    "        matched_indices = set()\n",
    "        for i, char1 in enumerate(s1):\n",
    "            for j in range(max(0, i - max_distance), min(len(s2), i + max_distance + 1)):\n",
    "                if char1 == s2[j] and j not in matched_indices:\n",
    "                    matched.append(char1)\n",
    "                    matched_indices.add(j)\n",
    "                    break\n",
    "        return matched\n",
    "\n",
    "    def get_transpositions(s1_matches, s2_matches):\n",
    "        \"\"\"Count the number of transpositions between matched characters.\"\"\"\n",
    "        return sum(1 for c1, c2 in zip(s1_matches, s2_matches) if c1 != c2) // 2\n",
    "\n",
    "    # Step 1: Jaro similarity\n",
    "    max_distance = (max(len(string1), len(string2)) // 2) - 1\n",
    "    string1_matches = get_matching_characters(string1, string2, max_distance)\n",
    "    string2_matches = get_matching_characters(string2, string1, max_distance)\n",
    "\n",
    "    if not string1_matches or not string2_matches:\n",
    "        return 0.0\n",
    "\n",
    "    m = len(string1_matches)\n",
    "    t = get_transpositions(string1_matches, string2_matches)\n",
    "    jaro = (m / len(string1) + m / len(string2) + (m - t) / m) / 3\n",
    "\n",
    "    # Step 2: Jaro-Winkler adjustment\n",
    "    prefix = 0\n",
    "    for c1, c2 in zip(string1, string2):\n",
    "        if c1 == c2:\n",
    "            prefix += 1\n",
    "        else:\n",
    "            break\n",
    "        if prefix == 4:  # Only consider up to 4 characters for prefix scaling\n",
    "            break\n",
    "\n",
    "    scaling_factor = 0.1  # Winkler's scaling factor\n",
    "    jaro_winkler = jaro + prefix * scaling_factor * (1 - jaro)\n",
    "    return jaro_winkler\n",
    "\n",
    "# Example usage\n",
    "score = jaro_winkler(\"martha\", \"marhta\")\n",
    "print(f\"Jaro-Winkler Score: {score}\")\n"
   ]
  },
  {
   "cell_type": "code",
   "execution_count": 4,
   "metadata": {},
   "outputs": [],
   "source": [
    "def get_schema(connection_params):\n",
    "    try:\n",
    "        # Establish connection\n",
    "        conn = psycopg2.connect(**connection_params)\n",
    "        print(\"Connection successful\")\n",
    "\n",
    "        # Create a cursor object\n",
    "        cursor = conn.cursor()\n",
    "\n",
    "        # Execute a query\n",
    "        cursor.execute(\"\"\"SELECT table_name, column_name, data_type \n",
    "                            FROM information_schema.columns\n",
    "                            WHERE table_schema = 'public'\n",
    "                            ORDER BY table_name, ordinal_position;\"\"\")\n",
    "\n",
    "        # Fetch and print the result\n",
    "        results= cursor.fetchall()\n",
    "        # print(f\"PostgreSQL version: {version}\")\n",
    "\n",
    "        # Close cursor and connection\n",
    "        cursor.close()\n",
    "        conn.close()\n",
    "        return results\n",
    "    except Exception as e:\n",
    "        print(f\"Error: {e}\")\n",
    "        return None\n",
    "\n",
    "    "
   ]
  },
  {
   "cell_type": "code",
   "execution_count": 5,
   "metadata": {},
   "outputs": [],
   "source": [
    "fields={}"
   ]
  },
  {
   "cell_type": "code",
   "execution_count": 6,
   "metadata": {},
   "outputs": [],
   "source": [
    "def custom_query(connection_params,query):\n",
    "    try:\n",
    "        # Establish connection\n",
    "        conn = psycopg2.connect(**connection_params)\n",
    "        print(\"Connection successful\")\n",
    "\n",
    "        # Create a cursor object\n",
    "        cursor = conn.cursor()\n",
    "\n",
    "        # Execute a query\n",
    "        cursor.execute(f\"{query}\")\n",
    "\n",
    "        # Fetch and print the result\n",
    "        results= cursor.fetchall()\n",
    "        # print(f\"PostgreSQL version: {version}\")\n",
    "        column_names = [desc[0] for desc in cursor.description]\n",
    "        fields[connection_params[\"dbname\"]]=column_names\n",
    "\n",
    "        # Close cursor and connection\n",
    "        cursor.close()\n",
    "        conn.close()\n",
    "        return results\n",
    "    except Exception as e:\n",
    "        print(f\"Error: {e}\")\n",
    "        return None\n",
    "\n",
    "    "
   ]
  },
  {
   "cell_type": "code",
   "execution_count": 7,
   "metadata": {},
   "outputs": [],
   "source": [
    "Connection_params={\n",
    "    \"Air India\":{\n",
    "    \"dbname\": \"Air India\",\n",
    "    \"user\": \"postgres\",\n",
    "    \"password\": \"addy\",\n",
    "    \"host\": \"localhost\",  # Use the actual host (e.g., \"127.0.0.1\" or server IP)\n",
    "    \"port\": 5432          # Default PostgreSQL port\n",
    "    },\n",
    "    \"Vistara\":{\n",
    "    \"dbname\": \"Vistara\",\n",
    "    \"user\": \"postgres\",\n",
    "    \"password\": \"addy\",\n",
    "    \"host\": \"localhost\",  # Use the actual host (e.g., \"127.0.0.1\" or server IP)\n",
    "    \"port\": 5432          # Default PostgreSQL port\n",
    "    },\n",
    "    \"Indigo\":{\n",
    "    \"dbname\": \"Indigo\",\n",
    "    \"user\": \"postgres\",\n",
    "    \"password\": \"addy\",\n",
    "    \"host\": \"localhost\",  # Use the actual host (e.g., \"127.0.0.1\" or server IP)\n",
    "    \"port\": 5432          # Default PostgreSQL port\n",
    "    }\n",
    "}"
   ]
  },
  {
   "cell_type": "code",
   "execution_count": 8,
   "metadata": {},
   "outputs": [],
   "source": [
    "# query is select * from (all combined customer tables tables)\n",
    "\n",
    "fkey_mapping={\n",
    "    \"Air India\":\"customerid\",\n",
    "    \"Indigo\":\"emailid\",\n",
    "    \"Vistara\":\"\"\n",
    "}"
   ]
  },
  {
   "cell_type": "code",
   "execution_count": 9,
   "metadata": {},
   "outputs": [],
   "source": [
    "combined_table_mapping={}"
   ]
  },
  {
   "cell_type": "code",
   "execution_count": 10,
   "metadata": {},
   "outputs": [],
   "source": [
    "#dictionary for mapping \n",
    "table_mapping={\n",
    "    \"Air India\":[\"customer_age\",\"customer_info\",\"customer_health\"],\n",
    "    \"Indigo\":[\"clients\",\"loyalty\"],\n",
    "    \"Vistara\":[\"passenger\"]\n",
    "    \n",
    "}"
   ]
  },
  {
   "cell_type": "code",
   "execution_count": 11,
   "metadata": {},
   "outputs": [],
   "source": [
    "for k,v in table_mapping.items():\n",
    "    joined_table=v[0]\n",
    "    for i in range(1,len(v)):\n",
    "        \n",
    "        joined_table+=f\" join {v[i]} on {v[i-1]}.{fkey_mapping[k]} = {v[i]}.{fkey_mapping[k]}\"\n",
    "    combined_table_mapping[k]=joined_table\n",
    "\n"
   ]
  },
  {
   "cell_type": "code",
   "execution_count": null,
   "metadata": {},
   "outputs": [],
   "source": [
    "combined_table_mapping"
   ]
  },
  {
   "cell_type": "code",
   "execution_count": 29,
   "metadata": {},
   "outputs": [
    {
     "name": "stdout",
     "output_type": "stream",
     "text": [
      "Connection successful\n",
      "Connection successful\n",
      "Connection successful\n"
     ]
    }
   ],
   "source": [
    "#dictionary for all customer data:\n",
    "cust_data={}\n",
    "for k,v in Connection_params.items():\n",
    "    query=f\"select * from {combined_table_mapping[k]} ;\"\n",
    "    cust_data[k]=custom_query(v,query)\n",
    "    \n",
    "    "
   ]
  },
  {
   "cell_type": "code",
   "execution_count": 30,
   "metadata": {},
   "outputs": [
    {
     "data": {
      "text/plain": [
       "('Priya Singh',\n",
       " 'priya.singh@example.com',\n",
       " '9876543215',\n",
       " datetime.date(1988, 11, 3),\n",
       " None,\n",
       " 'priya.singh@example.com',\n",
       " 1000)"
      ]
     },
     "execution_count": 30,
     "metadata": {},
     "output_type": "execute_result"
    }
   ],
   "source": [
    "cust_data[\"Indigo\"][0]"
   ]
  },
  {
   "cell_type": "code",
   "execution_count": null,
   "metadata": {},
   "outputs": [],
   "source": [
    "fields"
   ]
  },
  {
   "cell_type": "markdown",
   "metadata": {},
   "source": [
    "global schema for customer-\n",
    "Customer = [\n",
    "    \"Name\", \"Email\", \"Phone no.\", \"Point/frequent_flyer_miles\", \n",
    "    \"Age Group\", \"Medical Condition (optional)\", \n",
    "    \"City\", \"Address\"\n",
    "]"
   ]
  },
  {
   "cell_type": "code",
   "execution_count": 26,
   "metadata": {},
   "outputs": [],
   "source": [
    "# mapping from schema matching\n",
    "schema_mapping={\n",
    "    \"Air India\":{\n",
    "    \n",
    "    \"Name\":\"fullname\", \"Email\":\"emailaddress\", \"Phone no.\":\"contactnumber\", \"Point/frequent_flyer_miles\":\"loyaltypoints\", \n",
    "    \"Age\":\"agegroup\", \"City\":\"cityofresidence\"\n",
    "        \n",
    "        \n",
    "    },\n",
    "    \"Indigo\":{\n",
    "        \"Name\":\"full_name\", \"Email\":\"emailid\", \"Phone no.\":\"contact\", \"Point/frequent_flyer_miles\":\"points\", \n",
    "    \"Age\": \"dob\", \n",
    "    \"City\":\"city\"\n",
    "    },\n",
    "    \"Vistara\":{\n",
    "          \"Name\":\"passenger_name\", \"Email\":\"email\", \"Phone no.\":\"contactno\", \"Point/frequent_flyer_miles\":\"frequentflyerpoints\", \n",
    "    \"Age\": \"dateofbirth\", \n",
    "    \"City\":\"city\"\n",
    "    }\n",
    "\n",
    "\n",
    "}"
   ]
  },
  {
   "cell_type": "markdown",
   "metadata": {},
   "source": [
    "Blocking based on city"
   ]
  },
  {
   "cell_type": "code",
   "execution_count": 15,
   "metadata": {},
   "outputs": [
    {
     "data": {
      "text/plain": [
       "-1"
      ]
     },
     "execution_count": 15,
     "metadata": {},
     "output_type": "execute_result"
    }
   ],
   "source": [
    "field_index={\"Air India\":{\"City\":-1},\"Vistara\":{\"City\":-1}}\n",
    "field_index[\"Air India\"][\"City\"]"
   ]
  },
  {
   "cell_type": "code",
   "execution_count": 27,
   "metadata": {},
   "outputs": [
    {
     "name": "stdout",
     "output_type": "stream",
     "text": [
      "Air India\n",
      "going\n",
      "Vistara\n",
      "going\n"
     ]
    }
   ],
   "source": [
    "dbnames=[\"Air India\",\"Vistara\"]\n",
    "#find fields\n",
    "field_index={\"Air India\":{},\"Vistara\":{}}\n",
    "# field_index={}\n",
    "\n",
    "for db in dbnames:\n",
    "    print(db)\n",
    "    for i in range(len(fields[db])):\n",
    "        if fields[db][i]==schema_mapping[db][\"City\"]:\n",
    "            # print(field_index[db])\n",
    "            print(\"going\")\n",
    "            field_index[db][\"City\"]=i\n",
    "        elif fields[db][i]==schema_mapping[db][\"Age\"]:\n",
    "            field_index[db][\"Age\"]=i\n",
    "    "
   ]
  },
  {
   "cell_type": "code",
   "execution_count": 23,
   "metadata": {},
   "outputs": [
    {
     "ename": "KeyError",
     "evalue": "'City'",
     "output_type": "error",
     "traceback": [
      "\u001b[1;31m---------------------------------------------------------------------------\u001b[0m",
      "\u001b[1;31mKeyError\u001b[0m                                  Traceback (most recent call last)",
      "Cell \u001b[1;32mIn[23], line 1\u001b[0m\n\u001b[1;32m----> 1\u001b[0m \u001b[43mfield_index\u001b[49m\u001b[43m[\u001b[49m\u001b[38;5;124;43m\"\u001b[39;49m\u001b[38;5;124;43mAir India\u001b[39;49m\u001b[38;5;124;43m\"\u001b[39;49m\u001b[43m]\u001b[49m\u001b[43m[\u001b[49m\u001b[38;5;124;43m\"\u001b[39;49m\u001b[38;5;124;43mCity\u001b[39;49m\u001b[38;5;124;43m\"\u001b[39;49m\u001b[43m]\u001b[49m\n",
      "\u001b[1;31mKeyError\u001b[0m: 'City'"
     ]
    }
   ],
   "source": [
    "field_index[\"Air India\"][\"City\"]"
   ]
  },
  {
   "cell_type": "code",
   "execution_count": 31,
   "metadata": {},
   "outputs": [
    {
     "data": {
      "text/plain": [
       "dict_keys(['Air India', 'Vistara', 'Indigo'])"
      ]
     },
     "execution_count": 31,
     "metadata": {},
     "output_type": "execute_result"
    }
   ],
   "source": [
    "cust_data.keys()"
   ]
  },
  {
   "cell_type": "code",
   "execution_count": 33,
   "metadata": {},
   "outputs": [],
   "source": [
    "# del cust_data['Indigo']\n",
    "city_blocks={}\n",
    "for db in dbnames:\n",
    "    city_blocks[db]={}\n",
    "\n",
    "for airline, data in cust_data.items():\n",
    "    for row in data:\n",
    "        if row[field_index[airline][\"City\"]] not in city_blocks[airline]:\n",
    "            city_blocks[airline][row[field_index[airline][\"City\"]]]=[row]\n",
    "        else:\n",
    "            city_blocks[airline][row[field_index[airline][\"City\"]]].append(row)\n",
    "\n",
    "\n",
    "blocks=city_blocks\n",
    "\n",
    "for airline, cities in city_blocks.items():\n",
    "    for city,rows in cities.items():\n",
    "        blocks[airline][city]={}\n",
    "        for row in rows:\n",
    "            if row[field_index[airline][\"Age\"]] not in blocks[airline][city]:\n",
    "                blocks[airline][city][row[field_index[airline][\"Age\"]]]=[row]\n",
    "            else:\n",
    "                blocks[airline][city][row[field_index[airline][\"Age\"]]].append(row)\n",
    "\n",
    "            \n",
    "\n",
    "\n",
    "\n",
    "\n"
   ]
  },
  {
   "cell_type": "code",
   "execution_count": 35,
   "metadata": {},
   "outputs": [
    {
     "data": {
      "text/plain": [
       "{'26-35': [(1,\n",
       "   '26-35',\n",
       "   1,\n",
       "   'John Doe',\n",
       "   'john.doe@example.com',\n",
       "   '9876543210',\n",
       "   1200,\n",
       "   'Mumbai',\n",
       "   1,\n",
       "   False),\n",
       "  (25,\n",
       "   '26-35',\n",
       "   25,\n",
       "   'Aditi Patel',\n",
       "   'aditi.patel@example.com',\n",
       "   '9876543236',\n",
       "   1100,\n",
       "   'Mumbai',\n",
       "   25,\n",
       "   False)],\n",
       " '18-25': [(11,\n",
       "   '18-25',\n",
       "   11,\n",
       "   'Sara Ali',\n",
       "   'sara.ali@example.com',\n",
       "   '9876543222',\n",
       "   600,\n",
       "   'Mumbai',\n",
       "   11,\n",
       "   False),\n",
       "  (19,\n",
       "   '18-25',\n",
       "   19,\n",
       "   'Simran Kaur',\n",
       "   'simran.kaur@example.com',\n",
       "   '9876543230',\n",
       "   700,\n",
       "   'Mumbai',\n",
       "   19,\n",
       "   False),\n",
       "  (31,\n",
       "   '18-25',\n",
       "   31,\n",
       "   'Lata Mehta',\n",
       "   'lata.mehta@example.com',\n",
       "   '9876543242',\n",
       "   1800,\n",
       "   'Mumbai',\n",
       "   31,\n",
       "   True),\n",
       "  (39,\n",
       "   '18-25',\n",
       "   39,\n",
       "   'Farah Khan',\n",
       "   'farah.khan@example.com',\n",
       "   '9876543250',\n",
       "   1700,\n",
       "   'Mumbai',\n",
       "   39,\n",
       "   True),\n",
       "  (47,\n",
       "   '18-25',\n",
       "   47,\n",
       "   'Pranav Bhatia',\n",
       "   'pranav.bhatia@example.com',\n",
       "   '9876543258',\n",
       "   1200,\n",
       "   'Mumbai',\n",
       "   47,\n",
       "   False)]}"
      ]
     },
     "execution_count": 35,
     "metadata": {},
     "output_type": "execute_result"
    }
   ],
   "source": [
    "blocks[\"Air India\"][\"Mumbai\"]"
   ]
  },
  {
   "cell_type": "code",
   "execution_count": null,
   "metadata": {},
   "outputs": [],
   "source": [
    "\n"
   ]
  }
 ],
 "metadata": {
  "kernelspec": {
   "display_name": "Python 3",
   "language": "python",
   "name": "python3"
  },
  "language_info": {
   "codemirror_mode": {
    "name": "ipython",
    "version": 3
   },
   "file_extension": ".py",
   "mimetype": "text/x-python",
   "name": "python",
   "nbconvert_exporter": "python",
   "pygments_lexer": "ipython3",
   "version": "3.11.2"
  }
 },
 "nbformat": 4,
 "nbformat_minor": 2
}
