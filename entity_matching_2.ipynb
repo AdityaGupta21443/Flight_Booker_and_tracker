{
 "cells": [
  {
   "cell_type": "code",
   "execution_count": null,
   "metadata": {},
   "outputs": [],
   "source": [
    "import pandas as pd\n",
    "\n",
    "# Replace 'your_file.csv' with the path to your CSV file\n",
    "file_path1 = 'air_india.csv'\n",
    "file_path2='indigo.csv'\n",
    "file_path3='vistara.csv'\n",
    "\n",
    "# Create a DataFrame from the CSV file\n",
    "df_airindia = pd.read_csv(file_path1)\n",
    "df_indigo=pd.read_csv(file_path2)\n",
    "df_vistara=pd.read_csv(file_path3)\n",
    "\n",
    "df1_airIndi\n"
   ]
  },
  {
   "cell_type": "code",
   "execution_count": null,
   "metadata": {},
   "outputs": [],
   "source": []
  }
 ],
 "metadata": {
  "kernelspec": {
   "display_name": "Python 3",
   "language": "python",
   "name": "python3"
  },
  "language_info": {
   "name": "python",
   "version": "3.11.2"
  }
 },
 "nbformat": 4,
 "nbformat_minor": 2
}
